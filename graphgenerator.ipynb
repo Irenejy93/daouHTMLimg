{
 "cells": [
  {
   "cell_type": "code",
   "execution_count": 12,
   "metadata": {},
   "outputs": [],
   "source": [
    "\n",
    "from email.mime.text import MIMEText\n",
    "import smtplib, ssl\n",
    "from smtplib import SMTP   \n",
    "from email.mime.multipart import MIMEMultipart # sending email\n",
    "from email.mime.text import MIMEText  # constructing messages\n",
    "from jinja2 import Environment        # Jinja2 templating\\\n",
    "\n",
    "import numpy as np\n",
    "import afinn\n",
    "import pandas as pd\n",
    "import seaborn as sns\n",
    "import matplotlib.pyplot as plt\n",
    "from pyhive import hive\n",
    "import datetime\n",
    "import logging\n",
    "logging.getLogger().setLevel(logging.CRITICAL)"
   ]
  },
  {
   "cell_type": "code",
   "execution_count": null,
   "metadata": {},
   "outputs": [],
   "source": []
  },
  {
   "cell_type": "code",
   "execution_count": 16,
   "metadata": {},
   "outputs": [],
   "source": [
    "\n",
    "stock_lists = {'aapl':'APPLE, Inc.',\n",
    "                   'msft':'Microsoft Corporation',\n",
    "                   'amzn':'Amazon.com, Inc.',\n",
    "                   'baba':'Alibaba Group Holding Limited',\n",
    "                   'fb':'Facebook, Inc.'\n",
    "                   ,\n",
    "                   'googl':'Alphabet Inc.',\n",
    "                   'jnj':'Johnson & Johnson',\n",
    "                   'wmt':'Walmart Inc. ',\n",
    "                   'v':'Visa Inc.',\n",
    "                   'ma':'Mastercard Incorporated'}\n",
    "selectedcol = ['pubdate','title','url','summary','score','host']+list(stock_lists.keys())\n",
    "\n",
    "def newcount_graph():\n",
    "    ttt = 'select substr(pubdate, 0,8) as dt, count(*) as qty from nutch_ext group by substr(pubdate, 0,8)'\n",
    "    conn = hive.Connection(host ='daou-bd-r01a01', port = 10000)\n",
    "    cursor = conn.cursor()\n",
    "    cursor.execute(ttt)\n",
    "    countnuews = cursor.fetchall()\n",
    "\n",
    "    df = pd.DataFrame(countnuews, columns=['date', 'qty'])\n",
    "    dailyqty= df.sort_values(['date'],ascending=True)[-30:]\n",
    "    dailyqty['date'] = [a[4:6]+'/'+a[6:8] for a in dailyqty['date']]\n",
    "    dailyqty = dailyqty[-5:]\n",
    "    plt.figure(figsize=(14,10))\n",
    "\n",
    "    plt.figure(figsize=(14,10))\n",
    "\n",
    "    ax = sns.barplot(x=\"date\", y=\"qty\", data=dailyqty)\n",
    "    plt.title('Daily Colleted News',fontsize=20,color='navy')\n",
    "\n",
    "    for bar in ax.patches:\n",
    "        bar.set_color('#e5ac9d')\n",
    "    for p in ax.patches:\n",
    "             ax.annotate(int(p.get_height()), (p.get_x() + p.get_width() / 2., p.get_height()),\n",
    "                 ha='center', va='center', fontsize=15, color='slategrey', xytext=(0, 10),\n",
    "                 textcoords='offset points')\n",
    "    plt.savefig('dailynewscount.png', bbox_inches='tight')\n",
    "\n",
    "\n",
    "\n",
    "\n"
   ]
  },
  {
   "cell_type": "code",
   "execution_count": 17,
   "metadata": {},
   "outputs": [
    {
     "data": {
      "text/plain": [
       "<Figure size 1008x720 with 0 Axes>"
      ]
     },
     "metadata": {},
     "output_type": "display_data"
    },
    {
     "data": {
      "image/png": "[encoded data removed]",
      "text/plain": [
       "<Figure size 1008x720 with 1 Axes>"
      ]
     },
     "metadata": {
      "needs_background": "light"
     },
     "output_type": "display_data"
    }
   ],
   "source": [
    "newcount_graph()\n",
    "# for stk in stock_lists:\n",
    "#     ss = f'select pubdate, title, url, summary,score, host from nutch_ext where {stk} is NOT NULL '\n",
    "\n",
    "#     conn = hive.Connection(host ='daou-bd-r01a01', port = 10000)\n",
    "#     cursor = conn.cursor()\n",
    "#     cursor.execute(ss)\n",
    "#     news_coll = cursor.fetchall()\n",
    "#     news_list = [{selectedcol[i] : a[i] for i in range(len(a))} for a in news_coll ]\n",
    "#     news_list = [{ k: datetime.datetime.strptime(v, \"%Y%m%d%H%M%S\") if k == 'pubdate' else v for k,v in x.items()} for x in news_list]\n",
    "#     news_list =  [dict(item, **{'name':stock_lists[stk]}) for item in news_list]\n",
    "#     news_list = sorted(news_list, key=lambda k: k['pubdate']) \n",
    "#     STK = stk.upper()\n",
    "\n",
    "#     #calcualte score\n",
    "#     scoresss = [float(a['score']) for a in news_list]\n",
    "#     q1 = np.percentile(scoresss,25)\n",
    "#     q3 = np.percentile(scoresss,75)\n",
    "\n",
    "#     #give polarity \n",
    "#     for a in news_list:\n",
    "#         if float(a['score']) < q1:\n",
    "#             a['polarity'] = 'negative'\n",
    "#         elif float(a['score']) > q3:\n",
    "#             a['polarity'] ='positive'\n",
    "#         else:\n",
    "#             a['polarity'] = \"neutral\"\n",
    "\n",
    "#     timeman = pd.DataFrame([a['polarity']for a in news_list],[a['pubdate'] for a in news_list]).reset_index().rename(columns={'index':'date',0:'polarity'})\n",
    "#     timeman = timeman[timeman['date'] >= datetime.datetime.today() - datetime.timedelta(days = 10)]\n",
    "\n",
    "#     timeman['date']=[a.strftime('%Y%m%d')[4:6]+'/'+a.strftime('%Y%m%d')[6:8] for a in timeman['date']]\n",
    "#     timeman =pd.DataFrame(timeman.groupby(['date','polarity']).size()).rename(columns={0:'cnt'}).reset_index()\n",
    "#     plt.figure(figsize=(16,10))\n",
    "#     plt.legend(fontsize='x-large')\n",
    "#     ax= sns.barplot(x=\"date\", y=\"cnt\",hue_order = ['negative', 'neutral', 'positive'], hue=\"polarity\", data=timeman,palette=['#c62f2d', \"#f1ebec\", \"#214517\"])\n",
    "#     ax.legend(fontsize=16)\n",
    "\n",
    "#     plt.savefig(f'polarity_{STK}.png', bbox_inches='tight')\n"
   ]
  },
  {
   "cell_type": "code",
   "execution_count": null,
   "metadata": {},
   "outputs": [],
   "source": []
  }
 ],
 "metadata": {
  "kernelspec": {
   "display_name": "Python 3",
   "language": "python",
   "name": "python3"
  },
  "language_info": {
   "codemirror_mode": {
    "name": "ipython",
    "version": 3
   },
   "file_extension": ".py",
   "mimetype": "text/x-python",
   "name": "python",
   "nbconvert_exporter": "python",
   "pygments_lexer": "ipython3",
   "version": "3.6.5"
  }
 },
 "nbformat": 4,
 "nbformat_minor": 2
}
